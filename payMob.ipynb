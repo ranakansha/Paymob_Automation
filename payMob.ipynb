{
 "cells": [
  {
   "cell_type": "code",
   "execution_count": 13,
   "metadata": {},
   "outputs": [],
   "source": [
    "from selenium import webdriver\n",
    "from selenium.webdriver.chrome.options import Options as chrome_options\n",
    "from selenium.webdriver.common.proxy import Proxy, ProxyType\n",
    "from selenium.webdriver.firefox.options import Options as firefox_options\n",
    "from selenium.webdriver.common.action_chains import ActionChains\n",
    "import time"
   ]
  },
  {
   "cell_type": "code",
   "execution_count": 12,
   "metadata": {},
   "outputs": [],
   "source": [
    "def open_driver(browser):\n",
    "    if browser == \"Firefox\":\n",
    "            options = firefox_options()\n",
    "            options.headless = True\n",
    "            driver = webdriver.Firefox(options=options)\n",
    "    elif browser == \"Chrome\":\n",
    "        options = chrome_options()\n",
    "        options.add_argument('--ignore-certificate-errors')\n",
    "        options.add_argument(\"--test-type\")\n",
    "#         options.add_argument(\"--headless\")\n",
    "        options.add_argument('--no-sandbox')\n",
    "#         options.add_argument('--disable-dev-shm-usage')\n",
    "        options.add_argument(\"start-maximized\")\n",
    "#         options.headless = True\n",
    "        driver = webdriver.Chrome(options=options)\n",
    "        \n",
    "    else:\n",
    "        print(\"Invalid Browser.\") \n",
    "        print(\"Invalid Browser\")\n",
    "        \n",
    "    return driver"
   ]
  },
  {
   "cell_type": "code",
   "execution_count": 14,
   "metadata": {},
   "outputs": [],
   "source": [
    "def PayGoogle():\n",
    "    try:\n",
    "        browser=\"Chrome\"\n",
    "        url = r\"https://pay.google.com/\"\n",
    "        driver = open_driver(browser)\n",
    "        driver.get(url)\n",
    "        time.sleep(2)\n",
    "        \n",
    "        email = driver.find_element_by_id(\"identifierId\")\n",
    "        email.send_keys('testselechrom123@gmail.com')\n",
    "        time.sleep(2)\n",
    "        nextButton = driver.find_element_by_id(\"identifierNext\")\n",
    "        nextButton.click()\n",
    "        time.sleep(2)\n",
    "        \n",
    "        password = driver.find_element_by_xpath('//*[@id=\"password\"]/div[1]/div/div[1]/input')\n",
    "        password.send_keys('Amroha@123#')\n",
    "        time.sleep(2)\n",
    "        passnextButton = driver.find_element_by_id(\"passwordNext\")\n",
    "        passnextButton.click()\n",
    "        time.sleep(2)\n",
    "        \n",
    "        choosepayment = driver.find_element_by_xpath('//*[@id=\"yDmH0d\"]/c-wiz/div/div/div[1]/div[1]/c-wiz/div/div/nav/a[2]')\n",
    "        choosepayment.click()\n",
    "        time.sleep(2)\n",
    "        \n",
    "        driver.switch_to.frame(driver.find_element_by_tag_name(\"iframe\"))\n",
    "        addpayment = driver.find_element_by_class_name(\"b3-payment-methods-empty-add-instrument\").click()\n",
    "        driver.switch_to.default_content()  \n",
    "        time.sleep(2)\n",
    "        \n",
    "        driver.switch_to.frame(driver.find_element_by_tag_name(\"iframe\"))\n",
    "        add_bank = driver.find_elements_by_class_name('b3id-expanding-form-selector-item.b3id-expanding-form-selector-option.b3-expanding-form-selector-item.b3-expanding-form-selector-option')[3]\n",
    "        add_bank.click()\n",
    "        driver.switch_to.default_content()\n",
    "        time.sleep(2)\n",
    "        \n",
    "        driver.switch_to.frame(driver.find_element_by_tag_name(\"iframe\"))\n",
    "        bank_name = driver.find_element_by_xpath('//*[@id=\"iframeBody\"]/div[3]/div[2]/div/div[2]/div/section/div[2]/div[4]/div/div[1]/div[2]/div[1]/div/div/div/div[1]/div/div[1]/input')\n",
    "        bank_name.send_keys('Testting')\n",
    "        time.sleep(2)\n",
    "        \n",
    "              \n",
    "        acc_type = driver.find_element_by_xpath('//*[@id=\"iframeBody\"]/div[3]/div[2]/div/div[2]/div/section/div[2]/div[4]/div/div[1]/div[2]/div[2]/div/div/div/div[1]').click()\n",
    "        mouse = driver.find_element_by_xpath('//*[@id=\":xa\"]/div')       \n",
    "        action = ActionChains(driver)\n",
    "        action.move_to_element(mouse).click().perform()\n",
    "        time.sleep(5)\n",
    " \n",
    "        pin = driver.find_element_by_xpath('//*[@id=\"iframeBody\"]/div[3]/div[2]/div/div[2]/div/section/div[2]/div[4]/div/div[1]/div[2]/div[3]/div/div/div/div[1]/div/div[1]/input')\n",
    "        pin.send_keys('123456789')\n",
    "        time.sleep(2)\n",
    "        \n",
    "        Acc_no = driver.find_element_by_xpath('//*[@id=\"iframeBody\"]/div[3]/div[2]/div/div[2]/div/section/div[2]/div[4]/div/div[1]/div[2]/div[4]/div/div/div/div[1]/div/div[1]/input')\n",
    "        Acc_no.send_keys('4003830171874018')\n",
    "        time.sleep(2)\n",
    "        \n",
    "    except Exception as e:\n",
    "        print(e)\n",
    "\n"
   ]
  },
  {
   "cell_type": "code",
   "execution_count": 15,
   "metadata": {},
   "outputs": [],
   "source": [
    "PayGoogle()"
   ]
  },
  {
   "cell_type": "code",
   "execution_count": null,
   "metadata": {},
   "outputs": [],
   "source": []
  }
 ],
 "metadata": {
  "kernelspec": {
   "display_name": "Python 3",
   "language": "python",
   "name": "python3"
  },
  "language_info": {
   "codemirror_mode": {
    "name": "ipython",
    "version": 3
   },
   "file_extension": ".py",
   "mimetype": "text/x-python",
   "name": "python",
   "nbconvert_exporter": "python",
   "pygments_lexer": "ipython3",
   "version": "3.6.3"
  }
 },
 "nbformat": 4,
 "nbformat_minor": 4
}
