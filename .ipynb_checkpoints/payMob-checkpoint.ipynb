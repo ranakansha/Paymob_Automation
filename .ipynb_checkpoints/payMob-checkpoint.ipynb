{
 "cells": [
  {
   "cell_type": "code",
   "execution_count": 1,
   "metadata": {},
   "outputs": [],
   "source": [
    "from selenium import webdriver\n",
    "from selenium.webdriver.chrome.options import Options as chrome_options\n",
    "from selenium.webdriver.common.proxy import Proxy, ProxyType\n",
    "from selenium.webdriver.firefox.options import Options as firefox_options\n",
    "from selenium.webdriver.support import expected_conditions as EC\n",
    "import time"
   ]
  },
  {
   "cell_type": "code",
   "execution_count": 2,
   "metadata": {},
   "outputs": [],
   "source": [
    "def open_driver(browser):\n",
    "    if browser == \"Firefox\":\n",
    "            options = firefox_options()\n",
    "            options.headless = True\n",
    "            driver = webdriver.Firefox(options=options)\n",
    "    elif browser == \"Chrome\":\n",
    "        options = chrome_options()\n",
    "        options.add_argument('--ignore-certificate-errors')\n",
    "        options.add_argument(\"--test-type\")\n",
    "#         options.add_argument(\"--headless\")\n",
    "        options.add_argument('--no-sandbox')\n",
    "#         options.add_argument('--disable-dev-shm-usage')\n",
    "        options.add_argument(\"start-maximized\")\n",
    "#         options.headless = True\n",
    "        driver = webdriver.Chrome(options=options)\n",
    "        \n",
    "    else:\n",
    "        print(\"Invalid Browser.\") \n",
    "        print(\"Invalid Browser\")\n",
    "        \n",
    "    return driver"
   ]
  },
  {
   "cell_type": "code",
   "execution_count": 8,
   "metadata": {},
   "outputs": [],
   "source": [
    "def PayGoogle():\n",
    "    try:\n",
    "        browser=\"Chrome\"\n",
    "        url = r\"https://pay.google.com/\"\n",
    "        driver = open_driver(browser)\n",
    "        driver.get(url)\n",
    "        time.sleep(2)\n",
    "        email = driver.find_element_by_id(\"identifierId\")\n",
    "        email.send_keys('testselechrom123@gmail.com')\n",
    "        time.sleep(2)\n",
    "        nextButton = driver.find_element_by_id(\"identifierNext\")\n",
    "        nextButton.click()\n",
    "        time.sleep(2)\n",
    "        password = driver.find_element_by_xpath('//*[@id=\"password\"]/div[1]/div/div[1]/input')\n",
    "        password.send_keys('Amroha@123#')\n",
    "        time.sleep(2)\n",
    "        passnextButton = driver.find_element_by_id(\"passwordNext\")\n",
    "        passnextButton.click()\n",
    "        time.sleep(2)\n",
    "        choosepayment = driver.find_element_by_xpath('//*[@id=\"yDmH0d\"]/c-wiz/div/div/div[1]/div[1]/c-wiz/div/div/nav/a[2]')\n",
    "        choosepayment.click()\n",
    "        time.sleep(2)\n",
    "        \n",
    "        print('***************************************')\n",
    "        driver.switch_to.frame(driver.find_element_by_tag_name(\"iframe\"))\n",
    "        print('////////////////////////////////////////')\n",
    "#         addpayment = driver.find_element_by_xpath('//*[@id=\"iframeBody\"]/div[3]/div[2]/div/div[4]')\n",
    "#         print(addpayment)\n",
    "        \n",
    "    except Exception as e:\n",
    "        print(e)\n",
    "\n"
   ]
  },
  {
   "cell_type": "code",
   "execution_count": 9,
   "metadata": {},
   "outputs": [
    {
     "name": "stdout",
     "output_type": "stream",
     "text": [
      "Message: no such element: Unable to locate element: {\"method\":\"xpath\",\"selector\":\"//*[@id=\"iframeBody\"]/div[3]/div[2]/div/div[4]\"}\n",
      "  (Session info: chrome=91.0.4472.77)\n",
      "\n"
     ]
    }
   ],
   "source": [
    "PayGoogle()"
   ]
  },
  {
   "cell_type": "code",
   "execution_count": null,
   "metadata": {},
   "outputs": [],
   "source": []
  },
  {
   "cell_type": "code",
   "execution_count": null,
   "metadata": {},
   "outputs": [],
   "source": []
  }
 ],
 "metadata": {
  "kernelspec": {
   "display_name": "Python 3",
   "language": "python",
   "name": "python3"
  },
  "language_info": {
   "codemirror_mode": {
    "name": "ipython",
    "version": 3
   },
   "file_extension": ".py",
   "mimetype": "text/x-python",
   "name": "python",
   "nbconvert_exporter": "python",
   "pygments_lexer": "ipython3",
   "version": "3.6.3"
  }
 },
 "nbformat": 4,
 "nbformat_minor": 4
}
